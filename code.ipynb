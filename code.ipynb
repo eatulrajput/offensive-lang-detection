{
 "cells": [
  {
   "cell_type": "code",
   "execution_count": 3,
   "metadata": {},
   "outputs": [
    {
     "name": "stdout",
     "output_type": "stream",
     "text": [
      "Downloading from https://www.kaggle.com/api/v1/datasets/download/thedevastator/hate-speech-and-offensive-language-detection?dataset_version_number=2...\n"
     ]
    },
    {
     "name": "stderr",
     "output_type": "stream",
     "text": [
      "100%|██████████| 963k/963k [00:01<00:00, 819kB/s]"
     ]
    },
    {
     "name": "stdout",
     "output_type": "stream",
     "text": [
      "Extracting files...\n",
      "Path to dataset files: /home/atulrajput/.cache/kagglehub/datasets/thedevastator/hate-speech-and-offensive-language-detection/versions/2\n"
     ]
    },
    {
     "name": "stderr",
     "output_type": "stream",
     "text": [
      "\n"
     ]
    },
    {
     "data": {
      "text/html": [
       "<div>\n",
       "<style scoped>\n",
       "    .dataframe tbody tr th:only-of-type {\n",
       "        vertical-align: middle;\n",
       "    }\n",
       "\n",
       "    .dataframe tbody tr th {\n",
       "        vertical-align: top;\n",
       "    }\n",
       "\n",
       "    .dataframe thead th {\n",
       "        text-align: right;\n",
       "    }\n",
       "</style>\n",
       "<table border=\"1\" class=\"dataframe\">\n",
       "  <thead>\n",
       "    <tr style=\"text-align: right;\">\n",
       "      <th></th>\n",
       "      <th>count</th>\n",
       "      <th>hate_speech_count</th>\n",
       "      <th>offensive_language_count</th>\n",
       "      <th>neither_count</th>\n",
       "      <th>class</th>\n",
       "      <th>tweet</th>\n",
       "    </tr>\n",
       "  </thead>\n",
       "  <tbody>\n",
       "    <tr>\n",
       "      <th>0</th>\n",
       "      <td>3</td>\n",
       "      <td>0</td>\n",
       "      <td>0</td>\n",
       "      <td>3</td>\n",
       "      <td>2</td>\n",
       "      <td>!!! RT @mayasolovely: As a woman you shouldn't...</td>\n",
       "    </tr>\n",
       "    <tr>\n",
       "      <th>1</th>\n",
       "      <td>3</td>\n",
       "      <td>0</td>\n",
       "      <td>3</td>\n",
       "      <td>0</td>\n",
       "      <td>1</td>\n",
       "      <td>!!!!! RT @mleew17: boy dats cold...tyga dwn ba...</td>\n",
       "    </tr>\n",
       "    <tr>\n",
       "      <th>2</th>\n",
       "      <td>3</td>\n",
       "      <td>0</td>\n",
       "      <td>3</td>\n",
       "      <td>0</td>\n",
       "      <td>1</td>\n",
       "      <td>!!!!!!! RT @UrKindOfBrand Dawg!!!! RT @80sbaby...</td>\n",
       "    </tr>\n",
       "    <tr>\n",
       "      <th>3</th>\n",
       "      <td>3</td>\n",
       "      <td>0</td>\n",
       "      <td>2</td>\n",
       "      <td>1</td>\n",
       "      <td>1</td>\n",
       "      <td>!!!!!!!!! RT @C_G_Anderson: @viva_based she lo...</td>\n",
       "    </tr>\n",
       "    <tr>\n",
       "      <th>4</th>\n",
       "      <td>6</td>\n",
       "      <td>0</td>\n",
       "      <td>6</td>\n",
       "      <td>0</td>\n",
       "      <td>1</td>\n",
       "      <td>!!!!!!!!!!!!! RT @ShenikaRoberts: The shit you...</td>\n",
       "    </tr>\n",
       "  </tbody>\n",
       "</table>\n",
       "</div>"
      ],
      "text/plain": [
       "   count  hate_speech_count  offensive_language_count  neither_count  class  \\\n",
       "0      3                  0                         0              3      2   \n",
       "1      3                  0                         3              0      1   \n",
       "2      3                  0                         3              0      1   \n",
       "3      3                  0                         2              1      1   \n",
       "4      6                  0                         6              0      1   \n",
       "\n",
       "                                               tweet  \n",
       "0  !!! RT @mayasolovely: As a woman you shouldn't...  \n",
       "1  !!!!! RT @mleew17: boy dats cold...tyga dwn ba...  \n",
       "2  !!!!!!! RT @UrKindOfBrand Dawg!!!! RT @80sbaby...  \n",
       "3  !!!!!!!!! RT @C_G_Anderson: @viva_based she lo...  \n",
       "4  !!!!!!!!!!!!! RT @ShenikaRoberts: The shit you...  "
      ]
     },
     "execution_count": 3,
     "metadata": {},
     "output_type": "execute_result"
    }
   ],
   "source": [
    "import kagglehub\n",
    "import pandas as pd\n",
    "\n",
    "# Download the dataset\n",
    "path = kagglehub.dataset_download(\"thedevastator/hate-speech-and-offensive-language-detection\")\n",
    "print(\"Path to dataset files:\", path)\n",
    "\n",
    "# Load the dataset\n",
    "dataset_path = path + \"/labeled_data.csv\"  # Adjust the file path if needed\n",
    "data = pd.read_csv('/home/atulrajput/Desktop/New Folder/program/train.csv')\n",
    "\n",
    "# Preview the dataset\n",
    "data.head()\n"
   ]
  },
  {
   "cell_type": "code",
   "execution_count": 4,
   "metadata": {},
   "outputs": [
    {
     "name": "stdout",
     "output_type": "stream",
     "text": [
      "label\n",
      "offensive        20620\n",
      "non-offensive     4163\n",
      "Name: count, dtype: int64\n"
     ]
    }
   ],
   "source": [
    "# Rename and filter relevant columns\n",
    "data = data[['tweet', 'class']]\n",
    "data.columns = ['text', 'label']\n",
    "\n",
    "# Map the labels: 0 = hate speech, 1 = offensive language, 2 = neither\n",
    "# We'll combine \"hate speech\" and \"offensive\" into one category called \"offensive\"\n",
    "data['label'] = data['label'].map({0: 'offensive', 1: 'offensive', 2: 'non-offensive'})\n",
    "\n",
    "# Check the distribution of labels\n",
    "print(data['label'].value_counts())\n"
   ]
  },
  {
   "cell_type": "code",
   "execution_count": 6,
   "metadata": {},
   "outputs": [],
   "source": [
    "from sklearn.model_selection import train_test_split\n",
    "\n",
    "# Split data into training and test sets\n",
    "X_train, X_test, y_train, y_test = train_test_split(data['text'], data['label'], test_size=0.2, random_state=42)\n"
   ]
  },
  {
   "cell_type": "code",
   "execution_count": 7,
   "metadata": {},
   "outputs": [
    {
     "name": "stdout",
     "output_type": "stream",
     "text": [
      "Test accuracy: 0.9049828525317732\n"
     ]
    }
   ],
   "source": [
    "from sklearn.feature_extraction.text import CountVectorizer\n",
    "from sklearn.naive_bayes import MultinomialNB\n",
    "from sklearn.pipeline import make_pipeline\n",
    "\n",
    "# Create a pipeline for vectorizing text and training the classifier\n",
    "model = make_pipeline(CountVectorizer(), MultinomialNB())\n",
    "model.fit(X_train, y_train)\n",
    "\n",
    "# Evaluate the model\n",
    "accuracy = model.score(X_test, y_test)\n",
    "print(\"Test accuracy:\", accuracy)\n"
   ]
  },
  {
   "cell_type": "code",
   "execution_count": 8,
   "metadata": {},
   "outputs": [
    {
     "name": "stdout",
     "output_type": "stream",
     "text": [
      "Cross-validation accuracy scores: [0.90443772 0.90592686 0.90290038 0.91046658 0.90945776]\n",
      "Average cross-validation accuracy: 0.9066378593835751\n"
     ]
    }
   ],
   "source": [
    "from sklearn.model_selection import cross_val_score\n",
    "\n",
    "cv_scores = cross_val_score(model, X_train, y_train, cv=5)\n",
    "print(\"Cross-validation accuracy scores:\", cv_scores)\n",
    "print(\"Average cross-validation accuracy:\", cv_scores.mean())\n"
   ]
  },
  {
   "cell_type": "code",
   "execution_count": 10,
   "metadata": {},
   "outputs": [
    {
     "data": {
      "image/png": "[encoded data removed]",
      "text/plain": [
       "<Figure size 640x480 with 2 Axes>"
      ]
     },
     "metadata": {},
     "output_type": "display_data"
    },
    {
     "name": "stdout",
     "output_type": "stream",
     "text": [
      "               precision    recall  f1-score   support\n",
      "\n",
      "non-offensive       0.88      0.51      0.64       835\n",
      "    offensive       0.91      0.99      0.95      4122\n",
      "\n",
      "     accuracy                           0.90      4957\n",
      "    macro avg       0.89      0.75      0.79      4957\n",
      " weighted avg       0.90      0.90      0.89      4957\n",
      "\n"
     ]
    }
   ],
   "source": [
    "from sklearn.metrics import confusion_matrix, classification_report\n",
    "import seaborn as sns\n",
    "import matplotlib.pyplot as plt\n",
    "\n",
    "y_pred = model.predict(X_test)\n",
    "cm = confusion_matrix(y_test, y_pred, labels=[\"offensive\", \"non-offensive\"])\n",
    "\n",
    "sns.heatmap(cm, annot=True, fmt=\"d\", cmap=\"Blues\", xticklabels=[\"offensive\", \"non-offensive\"], yticklabels=[\"offensive\", \"non-offensive\"])\n",
    "plt.xlabel(\"Predicted\")\n",
    "plt.ylabel(\"Actual\")\n",
    "plt.title(\"Confusion Matrix\")\n",
    "plt.show()\n",
    "\n",
    "print(classification_report(y_test, y_pred))\n"
   ]
  },
  {
   "cell_type": "code",
   "execution_count": 11,
   "metadata": {},
   "outputs": [],
   "source": [
    "# Dictionary of offensive terms and positive suggestions\n",
    "suggestions = {\n",
    "    \"stupid\": \"thoughtful\",\n",
    "    \"idiot\": \"inexperienced\",\n",
    "    \"hate\": \"dislike\",\n",
    "    \"shut up\": \"please be quiet\"\n",
    "}\n",
    "\n",
    "def suggest_alternative(text):\n",
    "    words = text.lower().split()\n",
    "    alternative_text = \" \".join([suggestions.get(word, word) for word in words])\n",
    "    return alternative_text\n"
   ]
  },
  {
   "cell_type": "code",
   "execution_count": 13,
   "metadata": {},
   "outputs": [],
   "source": [
    "from textblob import TextBlob\n",
    "\n",
    "def analyze_sentiment(text):\n",
    "    # Analyze the text using TextBlob\n",
    "    sentiment = TextBlob(text).sentiment\n",
    "    return sentiment.polarity  # Returns a value between -1 (negative) and +1 (positive)\n"
   ]
  },
  {
   "cell_type": "code",
   "execution_count": 14,
   "metadata": {},
   "outputs": [],
   "source": [
    "def detect_and_suggest_with_sentiment(text):\n",
    "    # Predict if the text is offensive\n",
    "    prediction = model.predict([text])[0]\n",
    "    if prediction == 'offensive':\n",
    "        print(\"Detected offensive language!\")\n",
    "        \n",
    "        # Analyze sentiment to assess severity\n",
    "        severity_score = analyze_sentiment(text)\n",
    "        if severity_score < -0.5:\n",
    "            print(\"Severity: High - This message has a strongly negative sentiment.\")\n",
    "        elif severity_score < 0:\n",
    "            print(\"Severity: Medium - This message has a moderately negative sentiment.\")\n",
    "        else:\n",
    "            print(\"Severity: Low - This message is not strongly negative.\")\n",
    "        \n",
    "        # Suggest a positive alternative\n",
    "        print(\"Suggested positive alternative:\", suggest_alternative(text))\n",
    "    else:\n",
    "        print(\"This message is safe.\")\n"
   ]
  },
  {
   "cell_type": "code",
   "execution_count": 15,
   "metadata": {},
   "outputs": [
    {
     "name": "stdout",
     "output_type": "stream",
     "text": [
      "\n",
      "Original: I absolutely hate everything about this!\n",
      "Detected offensive language!\n",
      "Severity: High - This message has a strongly negative sentiment.\n",
      "Suggested positive alternative: i absolutely dislike everything about this!\n",
      "\n",
      "Original: You're an idiot and a fool\n",
      "Detected offensive language!\n",
      "Severity: High - This message has a strongly negative sentiment.\n",
      "Suggested positive alternative: you're an inexperienced and a fool\n",
      "\n",
      "Original: Thank you for being so helpful!\n",
      "Detected offensive language!\n",
      "Severity: Low - This message is not strongly negative.\n",
      "Suggested positive alternative: thank you for being so helpful!\n",
      "\n",
      "Original: I dislike this\n",
      "Detected offensive language!\n",
      "Severity: Low - This message is not strongly negative.\n",
      "Suggested positive alternative: i dislike this\n",
      "\n",
      "Original: You are amazing!\n",
      "Detected offensive language!\n",
      "Severity: Low - This message is not strongly negative.\n",
      "Suggested positive alternative: you are amazing!\n"
     ]
    }
   ],
   "source": [
    "# Test sentences with varying levels of severity\n",
    "test_sentences = [\n",
    "    \"I absolutely hate everything about this!\",\n",
    "    \"You're an idiot and a fool\",\n",
    "    \"Thank you for being so helpful!\",\n",
    "    \"I dislike this\",\n",
    "    \"You are amazing!\"\n",
    "]\n",
    "\n",
    "for sentence in test_sentences:\n",
    "    print(f\"\\nOriginal: {sentence}\")\n",
    "    detect_and_suggest_with_sentiment(sentence)\n"
   ]
  },
  {
   "cell_type": "code",
   "execution_count": 16,
   "metadata": {},
   "outputs": [],
   "source": [
    "import pickle\n",
    "\n",
    "# Save the model\n",
    "with open(\"model.pkl\", \"wb\") as f:\n",
    "    pickle.dump(model, f)\n"
   ]
  }
 ],
 "metadata": {
  "kernelspec": {
   "display_name": ".venv",
   "language": "python",
   "name": "python3"
  },
  "language_info": {
   "codemirror_mode": {
    "name": "ipython",
    "version": 3
   },
   "file_extension": ".py",
   "mimetype": "text/x-python",
   "name": "python",
   "nbconvert_exporter": "python",
   "pygments_lexer": "ipython3",
   "version": "3.12.3"
  }
 },
 "nbformat": 4,
 "nbformat_minor": 2
}
